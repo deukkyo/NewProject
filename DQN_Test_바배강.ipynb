{
  "cells": [
    {
      "cell_type": "markdown",
      "metadata": {
        "id": "view-in-github",
        "colab_type": "text"
      },
      "source": [
        "<a href=\"https://colab.research.google.com/github/deukkyo/NewProject/blob/master/DQN_Test_%EB%B0%94%EB%B0%B0%EA%B0%95.ipynb\" target=\"_parent\"><img src=\"https://colab.research.google.com/assets/colab-badge.svg\" alt=\"Open In Colab\"/></a>"
      ]
    },
    {
      "cell_type": "code",
      "source": [
        "import gym\n",
        "import collections\n",
        "import random\n",
        "\n",
        "import torch\n",
        "import torch.nn as nn\n",
        "import torch.nn.functional as F\n",
        "import torch.optim as optim\n",
        "\n",
        "# Define Hyperparameters\n",
        "learning_rate = 0.005\n",
        "gamma         = 0.98\n",
        "buffer_limit  = 50000\n",
        "batch_size    = 32\n",
        "\n",
        "\n",
        "# ReplayBuffer Class\n",
        "class ReplayBuffer():\n",
        "  def __init__(self):\n",
        "    self.buffer = collections.deque(maxlen=buffer_limit)\n",
        "\n",
        "  def put(self,transition):\n",
        "    self.buffer.append(transition)\n",
        "\n",
        "  def sample(self, n):\n",
        "    mini_batch = random.sample(self.buffer, n)\n",
        "    s_lst, a_lst, r_lst, s_prime_lst, done_mask_lst = [], [], [], [], []\n",
        "\n",
        "    for transition in mini_batch:\n",
        "      s, a, r, s_prime, done_mask = transition\n",
        "      s_lst.append(s)\n",
        "      a_lst.append([a])\n",
        "      r_lst.append([r])\n",
        "      s_prime_lst.append(s_prime)\n",
        "      done_mask_lst.append([done_mask])\n",
        "\n",
        "    return torch.tensor(s_lst, dtype-torch.float), torch.tensor(a_lst), torch.tensor(r_lst), torch.tensor(s_prime_lst,dtype=torch.float), torch.tensor(done_mask_lst)\n",
        "\n",
        "\n",
        "  def size(self):\n",
        "    return len(self.buffer)\n",
        "\n",
        "class Qnet(nn.Module):\n",
        "  def __init__(self):\n",
        "    super(Qnet,self).__init__()\n",
        "    self.fc1=nn.Linear(4,128)\n",
        "    self.fc2 = nn.Linear(128,128)\n",
        "    self.fc3 = nn.Linear(128,2)\n",
        "\n",
        "  def forward(self,x):\n",
        "    x = F.relu(self.fc1(x))\n",
        "    x = F.relu(self.fc2(x))\n",
        "    x = self.fc3(x)\n",
        "    return x\n",
        "\n",
        "  def sample_action(self, obs, epsilon):\n",
        "    out = self.forward(obs)\n",
        "    coin = random.random()\n",
        "    if coin < epsilon:\n",
        "      return random.randint(0, 1)\n",
        "    else:\n",
        "      return out.argmax().item()\n",
        "\n",
        "\n",
        "def train(q, q_target, memory, optimizer):\n",
        "  for i in range(10):\n",
        "    s,a,r,s_prime,done_mask = memory.sample(batch_size)\n",
        "\n",
        "    q_out = q(s)\n",
        "    q_a = q_out.gather(1,a)\n",
        "    max_q_prime = q_target(s_prime).max(1)[0].unsqueeze(1)\n",
        "    target = r + gamma * max_q_prime * done_mask\n",
        "    loss = F.smooth_l1_loss(q_a, target)\n",
        "\n",
        "    optimizer.zero_grad()\n",
        "    loss.backward()\n",
        "    optimizer.step()\n",
        "    \n",
        "def main():\n",
        "  env = gym.make('CartPole-v1')\n",
        "\n",
        "  q = Qnet()\n",
        "  q_target = Qnet()\n",
        "  q_target.load_state_dict(q.state_dic())\n",
        "  memory = ReplayBuffer()\n",
        "\n",
        "  print_interval = 20\n",
        "  score = 0.0\n",
        "\n",
        "  optimizer = optim.Adam(q.parameters(), lr=learning_rate)"
      ],
      "metadata": {
        "id": "235hss6VcRgp"
      },
      "execution_count": null,
      "outputs": []
    },
    {
      "cell_type": "code",
      "source": [
        ""
      ],
      "metadata": {
        "id": "DEBrTi4L15vo"
      },
      "execution_count": null,
      "outputs": []
    }
  ],
  "metadata": {
    "colab": {
      "collapsed_sections": [],
      "name": "Colaboratory에 오신 것을 환영합니다의 사본",
      "provenance": [],
      "include_colab_link": true
    },
    "kernelspec": {
      "display_name": "Python 3",
      "name": "python3"
    }
  },
  "nbformat": 4,
  "nbformat_minor": 0
}